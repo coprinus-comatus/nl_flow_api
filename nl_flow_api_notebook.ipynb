{
 "cells": [
  {
   "cell_type": "code",
   "execution_count": null,
   "id": "d7c6f026",
   "metadata": {},
   "outputs": [],
   "source": [
    "import requests"
   ]
  },
  {
   "cell_type": "markdown",
   "id": "a853d93b",
   "metadata": {},
   "source": [
    "# How to access the expert.ai Platform NL Flow API"
   ]
  },
  {
   "cell_type": "markdown",
   "id": "74cf44ac",
   "metadata": {},
   "source": [
    "## API call with plain text"
   ]
  },
  {
   "cell_type": "code",
   "execution_count": null,
   "id": "ff47b030",
   "metadata": {},
   "outputs": [],
   "source": [
    "response = requests.post(\n",
    "    url=\"{INSERT DOCUMENT ANALYSIS ENDPOINT}\",\n",
    "    headers={\n",
    "        \"Content-Type\": \"application/json; charset=utf-8\",\n",
    "        \"X-API-KEY\": \"{INSERT API KEY}\"\n",
    "    },\n",
    "    json={\n",
    "        \"text\": \"\"\"\n",
    "        {INSERT TEXT}\n",
    "        \"\"\"\n",
    "    })"
   ]
  },
  {
   "cell_type": "code",
   "execution_count": null,
   "id": "a9a9bf52",
   "metadata": {},
   "outputs": [],
   "source": [
    "response.status_code"
   ]
  },
  {
   "cell_type": "code",
   "execution_count": null,
   "id": "d4361d3a",
   "metadata": {},
   "outputs": [],
   "source": [
    "response.json()"
   ]
  },
  {
   "cell_type": "markdown",
   "id": "d6b8ba1e",
   "metadata": {},
   "source": [
    "---"
   ]
  },
  {
   "cell_type": "markdown",
   "id": "4b87cfe1",
   "metadata": {},
   "source": [
    "## API call with URL"
   ]
  },
  {
   "cell_type": "code",
   "execution_count": null,
   "id": "2aa2d88a",
   "metadata": {},
   "outputs": [],
   "source": [
    "response = requests.post(\n",
    "    url=\"{INSERT DOCUMENT ANALYSIS ENDPOINT}\",\n",
    "    headers={\n",
    "        \"Content-Type\": \"application/json; charset=utf-8\",\n",
    "        \"X-API-KEY\": \"{INSERT API KEY}\"\n",
    "    },\n",
    "    json={\n",
    "        \"url\": \"{INSERT URL}\"\n",
    "    })"
   ]
  },
  {
   "cell_type": "code",
   "execution_count": null,
   "id": "8e763d34",
   "metadata": {},
   "outputs": [],
   "source": [
    "response.status_code"
   ]
  },
  {
   "cell_type": "code",
   "execution_count": null,
   "id": "e9287457",
   "metadata": {},
   "outputs": [],
   "source": [
    "response.json()"
   ]
  },
  {
   "cell_type": "markdown",
   "id": "463c48bf",
   "metadata": {},
   "source": [
    "---"
   ]
  },
  {
   "cell_type": "markdown",
   "id": "a51b648c",
   "metadata": {},
   "source": [
    "## API call with binary file (Tika Converter)"
   ]
  },
  {
   "cell_type": "code",
   "execution_count": null,
   "id": "d161e915",
   "metadata": {},
   "outputs": [],
   "source": [
    "import base64"
   ]
  },
  {
   "cell_type": "code",
   "execution_count": null,
   "id": "fa3d8ccb",
   "metadata": {},
   "outputs": [],
   "source": [
    "def encode_file_to_base64(file_path):\n",
    "    with open(file_path, \"rb\") as file:\n",
    "        string = file.read()\n",
    "    base64_bytes = base64.b64encode(string)\n",
    "    base64_string = str(base64_bytes, \"utf-8\")\n",
    "    return base64_string"
   ]
  },
  {
   "cell_type": "code",
   "execution_count": null,
   "id": "3633ec83",
   "metadata": {},
   "outputs": [],
   "source": [
    "response = requests.post(\n",
    "    url=\"{INSERT DOCUMENT ANALYSIS ENDPOINT}\",\n",
    "    headers={\n",
    "        \"Content-Type\": \"application/json; charset=utf-8\",\n",
    "        \"X-API-KEY\": \"{INSERT API KEY}\"\n",
    "    },\n",
    "    json={\n",
    "        \"path\": \"{INSERT DOCUMENT PATH}\",\n",
    "        \"base64\": encode_file_to_base64({INSERT DOCUMENT PATH})\n",
    "    })"
   ]
  },
  {
   "cell_type": "code",
   "execution_count": null,
   "id": "02a70f9b",
   "metadata": {},
   "outputs": [],
   "source": [
    "response.status_code"
   ]
  },
  {
   "cell_type": "code",
   "execution_count": null,
   "id": "8331cf72",
   "metadata": {},
   "outputs": [],
   "source": [
    "response.json()"
   ]
  },
  {
   "cell_type": "markdown",
   "id": "728e8cb2",
   "metadata": {},
   "source": [
    "---"
   ]
  },
  {
   "cell_type": "markdown",
   "id": "4a63e60d",
   "metadata": {},
   "source": [
    "## API call with .pdf file (Extract)"
   ]
  },
  {
   "cell_type": "code",
   "execution_count": null,
   "id": "40d4e880",
   "metadata": {},
   "outputs": [],
   "source": [
    "response = requests.post(\n",
    "    url=\"{INSERT DOCUMENT ANALYSIS ENDPOINT}\",\n",
    "    headers={\n",
    "        \"Content-Type\": \"application/json; charset=utf-8\",\n",
    "        \"X-API-KEY\": \"{INSERT API KEY}\"\n",
    "    },\n",
    "    json={\n",
    "        \"path\": \"{INSERT DOCUMENT PATH}\",\n",
    "        \"base64\": encode_file_to_base64({INSERT DOCUMENT PATH})\n",
    "    })"
   ]
  },
  {
   "cell_type": "code",
   "execution_count": null,
   "id": "1a938503",
   "metadata": {},
   "outputs": [],
   "source": [
    "response.status_code"
   ]
  },
  {
   "cell_type": "code",
   "execution_count": null,
   "id": "f0b0c9d9",
   "metadata": {},
   "outputs": [],
   "source": [
    "response.json()"
   ]
  },
  {
   "cell_type": "markdown",
   "id": "55560613",
   "metadata": {},
   "source": [
    "---"
   ]
  }
 ],
 "metadata": {
  "kernelspec": {
   "display_name": "Python 3 (ipykernel)",
   "language": "python",
   "name": "python3"
  },
  "language_info": {
   "codemirror_mode": {
    "name": "ipython",
    "version": 3
   },
   "file_extension": ".py",
   "mimetype": "text/x-python",
   "name": "python",
   "nbconvert_exporter": "python",
   "pygments_lexer": "ipython3",
   "version": "3.9.7"
  }
 },
 "nbformat": 4,
 "nbformat_minor": 5
}
